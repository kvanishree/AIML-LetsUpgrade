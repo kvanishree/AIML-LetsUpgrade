{
 "cells": [
  {
   "cell_type": "code",
   "execution_count": 1,
   "metadata": {},
   "outputs": [],
   "source": [
    "import numpy as np"
   ]
  },
  {
   "cell_type": "markdown",
   "metadata": {},
   "source": [
    "# Q1"
   ]
  },
  {
   "cell_type": "code",
   "execution_count": 2,
   "metadata": {},
   "outputs": [
    {
     "name": "stdout",
     "output_type": "stream",
     "text": [
      "[2 3 2 2 2]\n",
      "[4 3 4 4 3]\n",
      "greater elements comapring a2 with a1 array is \n",
      " [4 4 4 3]\n",
      "greater than are equal to elements comapring a2 with a1 array is \n",
      " [4 3 4 4 3]\n",
      "lesser elements comapring a2 with a1 array is \n",
      " []\n",
      "lesser and lesser equal elements comapring a2 with a1 array is \n",
      " [3]\n"
     ]
    }
   ],
   "source": [
    "a1=np.random.randint(low=1,high=5,size=5)\n",
    "print(a1)\n",
    "a2=np.random.randint(low=1,high=5,size=5)\n",
    "print(a2)\n",
    "filter=a2>a1\n",
    "print(\"greater elements comapring a2 with a1 array is \\n\",a2[filter])\n",
    "filter=a2>=a1\n",
    "print(\"greater than are equal to elements comapring a2 with a1 array is \\n\",a2[filter])\n",
    "filter=a2<a1\n",
    "print(\"lesser elements comapring a2 with a1 array is \\n\",a2[filter])\n",
    "filter=a2<=a1\n",
    "print(\"lesser and lesser equal elements comapring a2 with a1 array is \\n\",a2[filter])"
   ]
  },
  {
   "cell_type": "markdown",
   "metadata": {},
   "source": [
    "# Q2"
   ]
  },
  {
   "cell_type": "code",
   "execution_count": 3,
   "metadata": {},
   "outputs": [
    {
     "name": "stdout",
     "output_type": "stream",
     "text": [
      "10 zeros are:\n",
      " [0 0 0 0 0 0 0 0 0 0]\n",
      "10 ones:\n",
      " [1 1 1 1 1 1 1 1 1 1]\n",
      "10 fives are :\n",
      " [5 5 5 5 5 5 5 5 5 5]\n"
     ]
    }
   ],
   "source": [
    "zeros=np.random.randint(low=0,high=1,size=10)\n",
    "print(\"10 zeros are:\\n\",zeros)\n",
    "ones=np.random.randint(low=1,high=2,size=10)\n",
    "print(\"10 ones:\\n\",ones)\n",
    "fives=np.random.randint(low=5,high=6,size=10)\n",
    "print(\"10 fives are :\\n\",fives)"
   ]
  },
  {
   "cell_type": "markdown",
   "metadata": {},
   "source": [
    "# Q3"
   ]
  },
  {
   "cell_type": "code",
   "execution_count": 4,
   "metadata": {},
   "outputs": [
    {
     "name": "stdout",
     "output_type": "stream",
     "text": [
      "array is:\n",
      " [[2 2]\n",
      " [4 3]]\n",
      "sum of all elements in an array :  11\n",
      "sum of first row is :  4\n",
      "sum of second row is :  7\n",
      "sum of first column is :  6\n",
      "sum of second column is :  5\n"
     ]
    }
   ],
   "source": [
    "a3=np.array([[2,2],[4,3]])\n",
    "print(\"array is:\\n\",a3)\n",
    "print(\"sum of all elements in an array : \",np.sum(a3))\n",
    "ex=np.sum(a3,axis=1)\n",
    "print(\"sum of first row is : \",ex[0])\n",
    "print(\"sum of second row is : \",ex[1])\n",
    "ex1=np.sum(a3,axis=0)\n",
    "print(\"sum of first column is : \",ex1[0])\n",
    "print(\"sum of second column is : \",ex1[1])"
   ]
  },
  {
   "cell_type": "markdown",
   "metadata": {},
   "source": [
    "# Q4"
   ]
  },
  {
   "cell_type": "code",
   "execution_count": 5,
   "metadata": {},
   "outputs": [
    {
     "name": "stdout",
     "output_type": "stream",
     "text": [
      "array one :\n",
      " [[2 2]\n",
      " [2 3]]\n",
      "array two :\n",
      " [[2 2]\n",
      " [2 3]]\n",
      "Adding of an arrays is :\n",
      " [[4 4]\n",
      " [4 6]]\n",
      "subtract of an arrays is :\n",
      " [[0 0]\n",
      " [0 0]]\n",
      "multiply of an arrays is :\n",
      " [[4 4]\n",
      " [4 9]]\n",
      "divide of an arrays is :\n",
      " [[1. 1.]\n",
      " [1. 1.]]\n"
     ]
    }
   ],
   "source": [
    "a4=np.array([[2,2],[2,3]])\n",
    "print(\"array one :\\n\",a4)\n",
    "a5=np.array([[2,2],[2,3]])\n",
    "print(\"array two :\\n\",a5)\n",
    "print(\"Adding of an arrays is :\\n\",np.add(a4,a5))\n",
    "print(\"subtract of an arrays is :\\n\",np.subtract(a4,a5))\n",
    "print(\"multiply of an arrays is :\\n\",np.multiply(a4,a5))\n",
    "print(\"divide of an arrays is :\\n\",np.divide(a4,a5))"
   ]
  },
  {
   "cell_type": "markdown",
   "metadata": {},
   "source": [
    "# Q5"
   ]
  },
  {
   "cell_type": "code",
   "execution_count": 6,
   "metadata": {},
   "outputs": [
    {
     "name": "stdout",
     "output_type": "stream",
     "text": [
      "sine: array of angles given in degrees\n",
      "[0.         0.5        0.70710678 0.8660254  1.        ]\n",
      "\n",
      "\n",
      "cosine: array of angles given in degrees\n",
      "[1.00000000e+00 8.66025404e-01 7.07106781e-01 5.00000000e-01\n",
      " 6.12323400e-17]\n",
      "\n",
      "\n",
      "tangent: array of angles given in degrees\n",
      "[0.00000000e+00 5.77350269e-01 1.00000000e+00 1.73205081e+00\n",
      " 1.63312394e+16]\n"
     ]
    }
   ],
   "source": [
    "import numpy as np\n",
    "print(\"sine: array of angles given in degrees\")\n",
    "print(np.sin(np.array((0., 30., 45., 60., 90.)) * np.pi / 180.))\n",
    "print(\"\\n\\ncosine: array of angles given in degrees\")\n",
    "print(np.cos(np.array((0., 30., 45., 60., 90.)) * np.pi / 180.))\n",
    "print(\"\\n\\ntangent: array of angles given in degrees\")\n",
    "print(np.tan(np.array((0., 30., 45., 60., 90.)) * np.pi / 180.))"
   ]
  },
  {
   "cell_type": "markdown",
   "metadata": {},
   "source": [
    "# Q6"
   ]
  },
  {
   "cell_type": "code",
   "execution_count": 7,
   "metadata": {},
   "outputs": [],
   "source": [
    "import numpy as np\n",
    "import pandas as pd\n"
   ]
  },
  {
   "cell_type": "code",
   "execution_count": 8,
   "metadata": {},
   "outputs": [
    {
     "name": "stdout",
     "output_type": "stream",
     "text": [
      "    Name    USN  score\n",
      "1   vani  121.0    100\n",
      "2   yash  122.0     35\n",
      "3   Vara  123.0     78\n",
      "4  Naidu  124.0     45\n"
     ]
    }
   ],
   "source": [
    "d={'Name':['vani','yash','Vara','Naidu',],'USN':[121,122.,123,124,],'score':[100,35,78,45]}\n",
    "label={1,2,3,4,}\n",
    "df=pd.DataFrame(d,label)\n",
    "print(df)"
   ]
  },
  {
   "cell_type": "markdown",
   "metadata": {},
   "source": [
    "# Q7"
   ]
  },
  {
   "cell_type": "code",
   "execution_count": 11,
   "metadata": {},
   "outputs": [
    {
     "name": "stdout",
     "output_type": "stream",
     "text": [
      "    Name  score\n",
      "1   vani    100\n",
      "2   yash     35\n",
      "3   Vara     78\n",
      "4  Naidu     45\n"
     ]
    }
   ],
   "source": [
    "\n",
    "print(df[['Name','score']])"
   ]
  },
  {
   "cell_type": "markdown",
   "metadata": {},
   "source": [
    "# Q8"
   ]
  },
  {
   "cell_type": "code",
   "execution_count": 10,
   "metadata": {},
   "outputs": [
    {
     "name": "stdout",
     "output_type": "stream",
     "text": [
      "       Name  USN  score\n",
      "0      vani  121    100\n",
      "1      yash  122     35\n",
      "2      Vara  123     78\n",
      "3     Naidu  124     45\n",
      "0       sai  125     99\n",
      "1   arindam  126     39\n",
      "2  santhosh  127     68\n",
      "3      boss  128     65\n"
     ]
    }
   ],
   "source": [
    "d3={'Name':['vani','yash','Vara','Naidu',],'USN':[121,122,123,124,],'score':[100,35,78,45]}\n",
    "d2={'Name':['sai','arindam','santhosh','boss',],'USN':[125,126,127,128,],'score':[99,39,68,65]}\n",
    "d5=pd.DataFrame(d3)\n",
    "d6=pd.DataFrame(d2)\n",
    "print(pd.concat([d5,d6]))"
   ]
  }
 ],
 "metadata": {
  "kernelspec": {
   "display_name": "Python 3",
   "language": "python",
   "name": "python3"
  },
  "language_info": {
   "codemirror_mode": {
    "name": "ipython",
    "version": 3
   },
   "file_extension": ".py",
   "mimetype": "text/x-python",
   "name": "python",
   "nbconvert_exporter": "python",
   "pygments_lexer": "ipython3",
   "version": "3.7.6"
  }
 },
 "nbformat": 4,
 "nbformat_minor": 4
}
