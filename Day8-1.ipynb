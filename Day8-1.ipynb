{
 "cells": [
  {
   "cell_type": "markdown",
   "metadata": {},
   "source": [
    "# map"
   ]
  },
  {
   "cell_type": "markdown",
   "metadata": {},
   "source": [
    "syntax:\n",
    "        map(function,iterables)"
   ]
  },
  {
   "cell_type": "code",
   "execution_count": 7,
   "metadata": {},
   "outputs": [
    {
     "name": "stdout",
     "output_type": "stream",
     "text": [
      "[1, 4, 9, 16, 25]\n"
     ]
    }
   ],
   "source": [
    "def multi(a):\n",
    "    return a*a\n",
    "print(list(map(multi,[1,2,3,4,5])))"
   ]
  },
  {
   "cell_type": "code",
   "execution_count": 19,
   "metadata": {},
   "outputs": [
    {
     "name": "stdout",
     "output_type": "stream",
     "text": [
      "7 is greater\n",
      "\n",
      "8 is greater\n",
      "\n",
      "9 is greater\n",
      "\n",
      "['6 is greater', '6 is greater', '6 is greater', None, None, None]\n"
     ]
    }
   ],
   "source": [
    "def greater(b):\n",
    "    if b>6:\n",
    "        print(b,\"is greater\\n\")\n",
    "    else:\n",
    "        return '6 is greater'\n",
    "print(list(map(greater,[1,2,6,7,8,9])))"
   ]
  },
  {
   "cell_type": "code",
   "execution_count": 20,
   "metadata": {},
   "outputs": [
    {
     "name": "stdout",
     "output_type": "stream",
     "text": [
      "2  is greater\n",
      "\n",
      "3  is greater\n",
      "\n",
      "9  is greater\n",
      "\n",
      "7 is greater\n",
      "\n",
      "8 is greater\n",
      "\n",
      "9 is greater\n",
      "\n",
      "[None, None, None, None, None, None]\n"
     ]
    }
   ],
   "source": [
    "#compare greater number in the list\n",
    "def greater(b,a):\n",
    "    if b>a:\n",
    "        print(b,\"is greater\\n\")\n",
    "    else:\n",
    "        print(a,' is greater\\n')\n",
    "print(list(map(greater,[1,2,6,7,8,9],[2,3,9,4,5,6])))"
   ]
  },
  {
   "cell_type": "markdown",
   "metadata": {},
   "source": [
    "# with lambda"
   ]
  },
  {
   "cell_type": "raw",
   "metadata": {},
   "source": [
    "    this is used when function used once \n",
    "syntax:\n",
    "    lambda argumnets :expression"
   ]
  },
  {
   "cell_type": "code",
   "execution_count": 33,
   "metadata": {},
   "outputs": [
    {
     "data": {
      "text/plain": [
       "4"
      ]
     },
     "execution_count": 33,
     "metadata": {},
     "output_type": "execute_result"
    }
   ],
   "source": [
    "lam=lambda x,y:x*y \n",
    "lam(2,2)"
   ]
  },
  {
   "cell_type": "code",
   "execution_count": 22,
   "metadata": {},
   "outputs": [
    {
     "name": "stdout",
     "output_type": "stream",
     "text": [
      "[2, 4, 6, 8]\n"
     ]
    }
   ],
   "source": [
    "#lambda with map\n",
    "print(list(map(lambda x:x+x,[1,2,3,4])))"
   ]
  },
  {
   "cell_type": "code",
   "execution_count": 25,
   "metadata": {},
   "outputs": [
    {
     "name": "stdout",
     "output_type": "stream",
     "text": [
      "[2, 4, 6, 8]\n"
     ]
    }
   ],
   "source": [
    "print(list(map(lambda x,y:x+y,[1,2,3,4],[1,2,3,4])))"
   ]
  },
  {
   "cell_type": "code",
   "execution_count": 28,
   "metadata": {},
   "outputs": [
    {
     "name": "stdout",
     "output_type": "stream",
     "text": [
      "[False, False, False, True]\n"
     ]
    }
   ],
   "source": [
    "print(list(map(lambda x,y:x>y,[1,2,3,4],[2,3,4,1])))"
   ]
  },
  {
   "cell_type": "markdown",
   "metadata": {},
   "source": [
    "# filter"
   ]
  },
  {
   "cell_type": "raw",
   "metadata": {},
   "source": [
    "It will return only the true values with respect to condition.\n",
    "\n",
    "syntax:\n",
    "    filter(function,conditon)"
   ]
  },
  {
   "cell_type": "code",
   "execution_count": 41,
   "metadata": {},
   "outputs": [
    {
     "name": "stdout",
     "output_type": "stream",
     "text": [
      "[3, 4, 5]\n"
     ]
    }
   ],
   "source": [
    "def multi(a):\n",
    "    return a*a>4\n",
    "print(list(filter(multi,[1,2,3,4,5])))"
   ]
  },
  {
   "cell_type": "code",
   "execution_count": 46,
   "metadata": {},
   "outputs": [
    {
     "name": "stdout",
     "output_type": "stream",
     "text": [
      "multiplication of 1 is greater than 4?\n",
      " False\n",
      "multiplication of 2 is greater than 4?\n",
      " False\n",
      "multiplication of 3 is greater than 4?\n",
      " True\n",
      "multiplication of 4 is greater than 4?\n",
      " True\n",
      "multiplication of 5 is greater than 4?\n",
      " True\n",
      "[]\n"
     ]
    }
   ],
   "source": [
    "def multi(a):\n",
    "    print(\"multiplication of\",a,\"is greater than 4?\\n\",a*a>4)\n",
    "print(list(filter(multi,[1,2,3,4,5])))"
   ]
  },
  {
   "cell_type": "code",
   "execution_count": 52,
   "metadata": {},
   "outputs": [
    {
     "name": "stdout",
     "output_type": "stream",
     "text": [
      "[2, 4, 6, 8, 10, 12]\n"
     ]
    }
   ],
   "source": [
    "def multi(a):\n",
    "    return a*a\n",
    "print(list(map(lambda x,y:x+y,filter(multi,[1,2,3,4,5,6]),[1,2,3,4,5,6])))"
   ]
  }
 ],
 "metadata": {
  "kernelspec": {
   "display_name": "Python 3",
   "language": "python",
   "name": "python3"
  },
  "language_info": {
   "codemirror_mode": {
    "name": "ipython",
    "version": 3
   },
   "file_extension": ".py",
   "mimetype": "text/x-python",
   "name": "python",
   "nbconvert_exporter": "python",
   "pygments_lexer": "ipython3",
   "version": "3.7.6"
  }
 },
 "nbformat": 4,
 "nbformat_minor": 4
}
